{
 "cells": [
  {
   "cell_type": "markdown",
   "metadata": {},
   "source": [
    "Install all required dependencies via the CLI:\n",
    "\n",
    "```bash\n",
    "python3 -m venv .venv && source .venv/bin/activate\n",
    "sudo apt install ffmpeg\n",
    "pip3 install pywhispercpp faster-whisper jiwer sentence_transformers\n",
    "\n",
    "# if GPU inferencing with cuda:\n",
    "pip3 install nvidia-cublas-cu11 nvidia-cudnn-cu11\n",
    "export LD_LIBRARY_PATH=`python3 -c 'import os; import nvidia.cublas.lib; import nvidia.cudnn.lib; print(os.path.dirname(nvidia.cublas.lib.__file__) + \":\" + os.path.dirname(nvidia.cudnn.lib.__file__))'`\n",
    "```"
   ]
  },
  {
   "cell_type": "markdown",
   "metadata": {},
   "source": [
    "Choose the Whisper model identifier that you would like to use."
   ]
  },
  {
   "cell_type": "code",
   "execution_count": null,
   "metadata": {},
   "outputs": [],
   "source": [
    "desired_whisper_model = input(\"Whisper model version (e.g., base.en, large):\")\n",
    "gpu_on = input(\"Inference with GPU (yes or no)?\").lower()\n",
    "inference_solution = int(\n",
    "    input(\"Choose one using the number: (1) pywhispercpp or (2) faster-whisper\")\n",
    ")\n",
    "inference_solution = \"cpp\" if inference_solution == 1 else \"faster\"\n",
    "\n",
    "print(f\"Desired Whisper Model: {desired_whisper_model}\")\n",
    "print(f\"GPU inferencing: {gpu_on}\")\n",
    "print(f\"Selected inference solution: {inference_solution}\")"
   ]
  },
  {
   "cell_type": "markdown",
   "metadata": {},
   "source": [
    "Read in all available audio files from `samples/audio`. Assumes that the audio files all have a matching file within `sample/truth`."
   ]
  },
  {
   "cell_type": "code",
   "execution_count": null,
   "metadata": {},
   "outputs": [],
   "source": [
    "import os\n",
    "\n",
    "audio_dir = \"samples/audio/\"\n",
    "transcription_dir = \"samples/transcription/\"\n",
    "truth_dir = \"samples/truth/\"\n",
    "\n",
    "files = os.listdir(audio_dir)\n",
    "\n",
    "filenames = []\n",
    "for file in files:\n",
    "    name, ext = os.path.splitext(file)\n",
    "    if (ext):\n",
    "        filenames.append(name)\n",
    "\n",
    "print(f\"Files: {filenames}\")"
   ]
  },
  {
   "cell_type": "markdown",
   "metadata": {},
   "source": [
    "Use the python binding for whisper.cpp to inference whisper GGML. Cross-platform and cross-language.\n",
    "\n",
    "Use faster-whisper for CTransformers2 inferencing acceleration. Python only,"
   ]
  },
  {
   "cell_type": "code",
   "execution_count": null,
   "metadata": {},
   "outputs": [],
   "source": [
    "if inference_solution == \"cpp\":\n",
    "    from pywhispercpp.model import Model\n",
    "\n",
    "    model = Model(desired_whisper_model, models_dir=\"./models\")\n",
    "\n",
    "    for filename in filenames:\n",
    "        audio_file = f\"{audio_dir}{filename}.wav\"\n",
    "        print(f\"Filename: {audio_file}\")\n",
    "        segments = model.transcribe(audio_file, speed_up=True)\n",
    "\n",
    "        transcript = \"\"\n",
    "        for segment in segments:\n",
    "            transcript = \" \".join([seg.text for seg in segments])\n",
    "\n",
    "        transcript_file = f\"{transcription_dir}{filename}-{inference_solution}-{desired_whisper_model}.txt\"\n",
    "        with open(transcript_file, \"w\") as f:\n",
    "            f.write(transcript)\n",
    "\n",
    "else:\n",
    "    from faster_whisper import WhisperModel\n",
    "    import time\n",
    "\n",
    "    model = WhisperModel(\n",
    "        desired_whisper_model,\n",
    "        device=\"cuda\" if gpu_on == \"yes\" else \"cpu\",\n",
    "        compute_type=\"int8\",\n",
    "        download_root=\"./models\",\n",
    "    )\n",
    "\n",
    "    for filename in filenames:\n",
    "        audio_file = f\"{audio_dir}{filename}.wav\"\n",
    "        segments, info = model.transcribe(audio_file)\n",
    "\n",
    "        print(f\"Filename: {audio_file}\")\n",
    "        start = time.perf_counter()\n",
    "        segments = list(segments)\n",
    "        end = time.perf_counter()\n",
    "        print(f\"Transcribed in {end - start:0.4f} seconds\")\n",
    "\n",
    "        transcript = \"\"\n",
    "        for segment in segments:\n",
    "            transcript = \" \".join([seg.text for seg in segments])\n",
    "\n",
    "        transcript_file = f\"{transcription_dir}{filename}-{inference_solution}-{desired_whisper_model}.txt\"\n",
    "        with open(transcript_file, \"w\") as f:\n",
    "            f.write(transcript)"
   ]
  },
  {
   "cell_type": "markdown",
   "metadata": {},
   "source": [
    "Calculate Word Error Rate (WER) and Word Information Loss (WIL). WER measures word-level accuracy. WIL measures semantic fidelity. WER compares words. WIL compares meaning.\n",
    "\n",
    "Calculate the cosine-similarity of the paragraphs using a sentence embedding model."
   ]
  },
  {
   "cell_type": "code",
   "execution_count": null,
   "metadata": {},
   "outputs": [],
   "source": [
    "from jiwer import wer, process_words\n",
    "from sentence_transformers import SentenceTransformer, util\n",
    "\n",
    "model = SentenceTransformer(\"sentence-transformers/all-MiniLM-L6-v2\")\n",
    "\n",
    "\n",
    "for filename in filenames:\n",
    "    truth = \"\"\n",
    "    transcript = \"\"\n",
    "\n",
    "    transcript_file = f\"{transcription_dir}{filename}-{inference_solution}-{desired_whisper_model}.txt\"\n",
    "    with open(transcript_file, \"r\") as f:\n",
    "        transcript = f.read()\n",
    "\n",
    "    truth_file = f\"{truth_dir}{filename}.txt\"\n",
    "    with open(truth_file, \"r\") as f:\n",
    "        truth = f.read()\n",
    "\n",
    "    output = process_words(truth, transcript)\n",
    "\n",
    "    wer = output.wer\n",
    "    wil = output.wil\n",
    "\n",
    "    truth_embedding = model.encode(truth, convert_to_tensor=True)\n",
    "    transcript_embedding = model.encode(transcript, convert_to_tensor=True)\n",
    "\n",
    "    document_similarity = util.pytorch_cos_sim(\n",
    "        truth_embedding, transcript_embedding\n",
    "    ).item()\n",
    "\n",
    "    print(f\"[{filename}] Word Error Rate: {wer}\")\n",
    "    print(f\"[{filename}] Word Information Loss: {wil}\")\n",
    "    print(f\"[{filename}] (EXPERIMENTAL) Document Similarity: {document_similarity}\")"
   ]
  }
 ],
 "metadata": {
  "kernelspec": {
   "display_name": ".venv",
   "language": "python",
   "name": "python3"
  },
  "language_info": {
   "codemirror_mode": {
    "name": "ipython",
    "version": 3
   },
   "file_extension": ".py",
   "mimetype": "text/x-python",
   "name": "python",
   "nbconvert_exporter": "python",
   "pygments_lexer": "ipython3",
   "version": "3.11.6"
  }
 },
 "nbformat": 4,
 "nbformat_minor": 2
}
