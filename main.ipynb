{
 "cells": [
  {
   "cell_type": "markdown",
   "metadata": {},
   "source": [
    "Install all required dependencies via the CLI:\n",
    "\n",
    "```bash\n",
    "python3 -m venv .venv && source .venv/bin/activate\n",
    "sudo apt install ffmpeg\n",
    "pip3 install pywhispercpp faster-whisper jiwer sentence_transformers\n",
    "```"
   ]
  },
  {
   "cell_type": "markdown",
   "metadata": {},
   "source": [
    "Choose the Whisper model identifier that you would like to use."
   ]
  },
  {
   "cell_type": "code",
   "execution_count": 1,
   "metadata": {},
   "outputs": [],
   "source": [
    "desired_whisper_model = input(\"Whisper model version (e.g., base.en, base):\")"
   ]
  },
  {
   "cell_type": "markdown",
   "metadata": {},
   "source": [
    "Read in all available audio files from `samples/audio`. Assumes that the audio files all have a matching file within `sample/truth`."
   ]
  },
  {
   "cell_type": "code",
   "execution_count": 2,
   "metadata": {},
   "outputs": [
    {
     "name": "stdout",
     "output_type": "stream",
     "text": [
      "['1hr2min49sec']\n"
     ]
    }
   ],
   "source": [
    "import os\n",
    "\n",
    "audio_dir = \"samples/audio/\"\n",
    "transcription_dir = \"samples/transcription/\"\n",
    "truth_dir = \"samples/truth/\"\n",
    "\n",
    "files = os.listdir(audio_dir)\n",
    "\n",
    "filenames = []\n",
    "for file in files:\n",
    "    name, ext = os.path.splitext(file)\n",
    "    if (ext):\n",
    "        filenames.append(name)\n",
    "\n",
    "print(filenames)"
   ]
  },
  {
   "cell_type": "markdown",
   "metadata": {},
   "source": [
    "Use the python binding for whisper.cpp to inference whisper GGML. Cross-platform and cross-language.\n",
    "\n",
    "Use faster-whisper for CTransformers2 inferencing acceleration. Python only,"
   ]
  },
  {
   "cell_type": "code",
   "execution_count": 4,
   "metadata": {},
   "outputs": [
    {
     "name": "stdout",
     "output_type": "stream",
     "text": [
      "[2023-10-12 21:38:57,449] {utils.py:46} INFO - Model tiny.en already exists in ./models\n",
      "[2023-10-12 21:38:57,450] {model.py:221} INFO - Initializing the model ...\n",
      "Filename: samples/audio/1hr2min49sec.wav\n"
     ]
    },
    {
     "name": "stderr",
     "output_type": "stream",
     "text": [
      "whisper_init_from_file_no_state: loading model from '/home/jlaw/defense-unicorns/whisper-cpu-api/models/ggml-tiny.en.bin'\n",
      "whisper_model_load: loading model\n",
      "whisper_model_load: n_vocab       = 51864\n",
      "whisper_model_load: n_audio_ctx   = 1500\n",
      "whisper_model_load: n_audio_state = 384\n",
      "whisper_model_load: n_audio_head  = 6\n",
      "whisper_model_load: n_audio_layer = 4\n",
      "whisper_model_load: n_text_ctx    = 448\n",
      "whisper_model_load: n_text_state  = 384\n",
      "whisper_model_load: n_text_head   = 6\n",
      "whisper_model_load: n_text_layer  = 4\n",
      "whisper_model_load: n_mels        = 80\n",
      "whisper_model_load: ftype         = 1\n",
      "whisper_model_load: type          = 1\n",
      "whisper_model_load: mem required  =  201.00 MB (+    3.00 MB per decoder)\n",
      "whisper_model_load: adding 1607 extra tokens\n",
      "whisper_model_load: model ctx     =   73.58 MB\n",
      "whisper_model_load: model size    =   73.54 MB\n",
      "whisper_init_state: kv self size  =    2.62 MB\n",
      "whisper_init_state: kv cross size =    8.79 MB\n"
     ]
    },
    {
     "ename": "FileNotFoundError",
     "evalue": "samples/audio/1hr2min49sec.wav",
     "output_type": "error",
     "traceback": [
      "\u001b[0;31m---------------------------------------------------------------------------\u001b[0m",
      "\u001b[0;31mFileNotFoundError\u001b[0m                         Traceback (most recent call last)",
      "\u001b[1;32m/home/jlaw/defense-unicorns/whisper-cpu-api/main.ipynb Cell 7\u001b[0m line \u001b[0;36m1\n\u001b[1;32m     <a href='vscode-notebook-cell://wsl%2Bubuntu/home/jlaw/defense-unicorns/whisper-cpu-api/main.ipynb#W6sdnNjb2RlLXJlbW90ZQ%3D%3D?line=11'>12</a>\u001b[0m audio_file \u001b[39m=\u001b[39m \u001b[39mf\u001b[39m\u001b[39m\"\u001b[39m\u001b[39m{\u001b[39;00maudio_dir\u001b[39m}\u001b[39;00m\u001b[39m{\u001b[39;00mfilename\u001b[39m}\u001b[39;00m\u001b[39m.wav\u001b[39m\u001b[39m\"\u001b[39m\n\u001b[1;32m     <a href='vscode-notebook-cell://wsl%2Bubuntu/home/jlaw/defense-unicorns/whisper-cpu-api/main.ipynb#W6sdnNjb2RlLXJlbW90ZQ%3D%3D?line=12'>13</a>\u001b[0m \u001b[39mprint\u001b[39m(\u001b[39mf\u001b[39m\u001b[39m\"\u001b[39m\u001b[39mFilename: \u001b[39m\u001b[39m{\u001b[39;00maudio_file\u001b[39m}\u001b[39;00m\u001b[39m\"\u001b[39m)\n\u001b[0;32m---> <a href='vscode-notebook-cell://wsl%2Bubuntu/home/jlaw/defense-unicorns/whisper-cpu-api/main.ipynb#W6sdnNjb2RlLXJlbW90ZQ%3D%3D?line=13'>14</a>\u001b[0m segments \u001b[39m=\u001b[39m model\u001b[39m.\u001b[39;49mtranscribe(audio_file, speed_up\u001b[39m=\u001b[39;49m\u001b[39mTrue\u001b[39;49;00m)\n\u001b[1;32m     <a href='vscode-notebook-cell://wsl%2Bubuntu/home/jlaw/defense-unicorns/whisper-cpu-api/main.ipynb#W6sdnNjb2RlLXJlbW90ZQ%3D%3D?line=15'>16</a>\u001b[0m transcript \u001b[39m=\u001b[39m \u001b[39m\"\u001b[39m\u001b[39m\"\u001b[39m\n\u001b[1;32m     <a href='vscode-notebook-cell://wsl%2Bubuntu/home/jlaw/defense-unicorns/whisper-cpu-api/main.ipynb#W6sdnNjb2RlLXJlbW90ZQ%3D%3D?line=16'>17</a>\u001b[0m \u001b[39mfor\u001b[39;00m segment \u001b[39min\u001b[39;00m segments:\n",
      "File \u001b[0;32m~/defense-unicorns/whisper-cpu-api/.venv/lib/python3.11/site-packages/pywhispercpp/model.py:118\u001b[0m, in \u001b[0;36mModel.transcribe\u001b[0;34m(self, media, n_processors, new_segment_callback, **params)\u001b[0m\n\u001b[1;32m    116\u001b[0m     media_path \u001b[39m=\u001b[39m Path(media)\u001b[39m.\u001b[39mresolve()\n\u001b[1;32m    117\u001b[0m     \u001b[39mif\u001b[39;00m \u001b[39mnot\u001b[39;00m media_path\u001b[39m.\u001b[39mexists():\n\u001b[0;32m--> 118\u001b[0m         \u001b[39mraise\u001b[39;00m \u001b[39mFileNotFoundError\u001b[39;00m(media)\n\u001b[1;32m    119\u001b[0m     audio \u001b[39m=\u001b[39m \u001b[39mself\u001b[39m\u001b[39m.\u001b[39m_load_audio(media_path)\n\u001b[1;32m    120\u001b[0m \u001b[39m# update params if any\u001b[39;00m\n",
      "\u001b[0;31mFileNotFoundError\u001b[0m: samples/audio/1hr2min49sec.wav"
     ]
    }
   ],
   "source": [
    "inference_solution = (\n",
    "    int(input(\"Choose one using the number: (1) pywhispercpp or (2) faster-whisper\"))\n",
    "    == 1\n",
    ")\n",
    "\n",
    "if inference_solution == 1:\n",
    "    from pywhispercpp.model import Model\n",
    "\n",
    "    model = Model(desired_whisper_model, n_threads=6, models_dir=\"./models\")\n",
    "\n",
    "    for filename in filenames:\n",
    "        audio_file = f\"{audio_dir}{filename}.wav\"\n",
    "        print(f\"Filename: {audio_file}\")\n",
    "        segments = model.transcribe(audio_file, speed_up=True)\n",
    "\n",
    "        transcript = \"\"\n",
    "        for segment in segments:\n",
    "            transcript = \" \".join([seg.text for seg in segments])\n",
    "\n",
    "        transcript_file = f\"{transcription_dir}{filename}.txt\"\n",
    "        with open(transcript_file, \"w\") as f:\n",
    "            f.write(transcript)\n",
    "\n",
    "else:\n",
    "    from faster_whisper import WhisperModel\n",
    "    import time\n",
    "\n",
    "    model = WhisperModel(\n",
    "        desired_whisper_model,\n",
    "        device=\"cpu\",\n",
    "        compute_type=\"int8\",\n",
    "        cpu_threads=6,\n",
    "        download_root=\"./models\",\n",
    "    )\n",
    "\n",
    "    for filename in filenames:\n",
    "        audio_file = f\"{audio_dir}{filename}.*\"\n",
    "        segments, info = model.transcribe(audio_file)\n",
    "\n",
    "        print(f\"Filename: {audio_file}\")\n",
    "        start = time.perf_counter()\n",
    "        segments = list(segments)\n",
    "        end = time.perf_counter()\n",
    "        print(f\"Transcribed in {end - start:0.4f} seconds\")\n",
    "\n",
    "        transcript = \"\"\n",
    "        for segment in segments:\n",
    "            transcript = \" \".join([seg.text for seg in segments])\n",
    "\n",
    "        transcript_file = f\"{transcription_dir}{filename}.txt\"\n",
    "        with open(transcript_file, \"w\") as f:\n",
    "            f.write(transcript)"
   ]
  },
  {
   "cell_type": "markdown",
   "metadata": {},
   "source": [
    "Calculate Word Error Rate (WER) and Word Information Loss (WIL). WER measures word-level accuracy. WIL measures semantic fidelity. WER compares words. WIL compares meaning.\n",
    "\n",
    "Sentence embedding model is used to perform cosine-similarity."
   ]
  },
  {
   "cell_type": "code",
   "execution_count": null,
   "metadata": {},
   "outputs": [],
   "source": [
    "from jiwer import wer, process_words\n",
    "from sentence_transformers import SentenceTransformer, util\n",
    "\n",
    "model = SentenceTransformer(\"sentence-transformers/all-MiniLM-L6-v2\")\n",
    "\n",
    "\n",
    "for filename in filenames:\n",
    "    truth = \"\"\n",
    "    transcript = \"\"\n",
    "\n",
    "    transcript_file = f\"{transcription_dir}{filename}.txt\"\n",
    "    with open(transcript_file, \"r\") as f:\n",
    "        transcript = f.read()\n",
    "\n",
    "    truth_file = f\"{truth_dir}{filename}.txt\"\n",
    "    with open(truth_file, \"r\") as f:\n",
    "        truth = f.read()\n",
    "\n",
    "    output = process_words(truth, transcript)\n",
    "\n",
    "    wer = output.wer\n",
    "    wil = output.wil\n",
    "\n",
    "    truth_embedding = model.encode(truth, convert_to_tensor=True)\n",
    "    transcript_embedding = model.encode(transcript, convert_to_tensor=True)\n",
    "\n",
    "    document_similarity = util.pytorch_cos_sim(\n",
    "        truth_embedding, transcript_embedding\n",
    "    ).item()\n",
    "\n",
    "    print(f\"[{filename}] Word Error Rate: {wer}\")\n",
    "    print(f\"[{filename}] Word Information Loss: {wil}\")\n",
    "    print(f\"[{filename}] (EXPERIMENTAL) Document Similarity: {document_similarity}\")\n",
    "\n",
    "    inference_solution = \"cpp\" if inference_solution == 1 else \"faster\"\n",
    "\n",
    "    new_transcript_file = f\"{transcription_dir}{filename}-{inference_solution}-{desired_whisper_model}.txt\"\n",
    "    with open(new_transcript_file, \"w\") as f:\n",
    "        f.write(transcript)"
   ]
  }
 ],
 "metadata": {
  "kernelspec": {
   "display_name": ".venv",
   "language": "python",
   "name": "python3"
  },
  "language_info": {
   "codemirror_mode": {
    "name": "ipython",
    "version": 3
   },
   "file_extension": ".py",
   "mimetype": "text/x-python",
   "name": "python",
   "nbconvert_exporter": "python",
   "pygments_lexer": "ipython3",
   "version": "3.11.6"
  }
 },
 "nbformat": 4,
 "nbformat_minor": 2
}
