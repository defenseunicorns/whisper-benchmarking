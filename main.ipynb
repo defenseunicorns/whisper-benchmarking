{
 "cells": [
  {
   "cell_type": "markdown",
   "metadata": {},
   "source": [
    "Install all required dependencies via the CLI:\n",
    "\n",
    "```bash\n",
    "python3 -m venv .venv && source .venv/bin/activate\n",
    "sudo apt install ffmpeg\n",
    "pip3 install pywhispercpp faster-whisper jiwer sentence_transformers\n",
    "```"
   ]
  },
  {
   "cell_type": "markdown",
   "metadata": {},
   "source": [
    "Choose the Whisper model identifier that you would like to use."
   ]
  },
  {
   "cell_type": "code",
   "execution_count": 1,
   "metadata": {},
   "outputs": [],
   "source": [
    "desired_whisper_model = input(\"Whisper model version (e.g., base.en, base):\")"
   ]
  },
  {
   "cell_type": "markdown",
   "metadata": {},
   "source": [
    "Read in all available audio files from `samples/audio`. Assumes that the audio files all have a matching file within `sample/truth`."
   ]
  },
  {
   "cell_type": "code",
   "execution_count": 2,
   "metadata": {},
   "outputs": [
    {
     "name": "stdout",
     "output_type": "stream",
     "text": [
      "['1hr2min49sec']\n"
     ]
    }
   ],
   "source": [
    "import os\n",
    "\n",
    "audio_dir = \"samples/audio/\"\n",
    "transcription_dir = \"samples/transcription/\"\n",
    "truth_dir = \"samples/truth/\"\n",
    "\n",
    "files = os.listdir(audio_dir)\n",
    "\n",
    "filenames = []\n",
    "for file in files:\n",
    "    name, ext = os.path.splitext(file)\n",
    "    if (ext):\n",
    "        filenames.append(name)\n",
    "\n",
    "print(filenames)"
   ]
  },
  {
   "cell_type": "markdown",
   "metadata": {},
   "source": [
    "Use the python binding for whisper.cpp to inference whisper GGML. Cross-platform and cross-language.\n",
    "\n",
    "Use faster-whisper for CTransformers2 inferencing acceleration. Python only,"
   ]
  },
  {
   "cell_type": "code",
   "execution_count": 3,
   "metadata": {},
   "outputs": [
    {
     "name": "stderr",
     "output_type": "stream",
     "text": [
      "/home/jlaw/defense-unicorns/whisper-cpu-api/.venv/lib/python3.11/site-packages/tqdm/auto.py:21: TqdmWarning: IProgress not found. Please update jupyter and ipywidgets. See https://ipywidgets.readthedocs.io/en/stable/user_install.html\n",
      "  from .autonotebook import tqdm as notebook_tqdm\n"
     ]
    },
    {
     "ename": "FileNotFoundError",
     "evalue": "[Errno 2] No such file or directory: 'samples/audio/1hr2min49sec.*'",
     "output_type": "error",
     "traceback": [
      "\u001b[0;31m---------------------------------------------------------------------------\u001b[0m",
      "\u001b[0;31mFileNotFoundError\u001b[0m                         Traceback (most recent call last)",
      "\u001b[1;32m/home/jlaw/defense-unicorns/whisper-cpu-api/main.ipynb Cell 7\u001b[0m line \u001b[0;36m3\n\u001b[1;32m     <a href='vscode-notebook-cell://wsl%2Bubuntu/home/jlaw/defense-unicorns/whisper-cpu-api/main.ipynb#W6sdnNjb2RlLXJlbW90ZQ%3D%3D?line=35'>36</a>\u001b[0m \u001b[39mfor\u001b[39;00m filename \u001b[39min\u001b[39;00m filenames:\n\u001b[1;32m     <a href='vscode-notebook-cell://wsl%2Bubuntu/home/jlaw/defense-unicorns/whisper-cpu-api/main.ipynb#W6sdnNjb2RlLXJlbW90ZQ%3D%3D?line=36'>37</a>\u001b[0m     audio_file \u001b[39m=\u001b[39m \u001b[39mf\u001b[39m\u001b[39m\"\u001b[39m\u001b[39m{\u001b[39;00maudio_dir\u001b[39m}\u001b[39;00m\u001b[39m{\u001b[39;00mfilename\u001b[39m}\u001b[39;00m\u001b[39m.*\u001b[39m\u001b[39m\"\u001b[39m\n\u001b[0;32m---> <a href='vscode-notebook-cell://wsl%2Bubuntu/home/jlaw/defense-unicorns/whisper-cpu-api/main.ipynb#W6sdnNjb2RlLXJlbW90ZQ%3D%3D?line=37'>38</a>\u001b[0m     segments, info \u001b[39m=\u001b[39m model\u001b[39m.\u001b[39;49mtranscribe(audio_file)\n\u001b[1;32m     <a href='vscode-notebook-cell://wsl%2Bubuntu/home/jlaw/defense-unicorns/whisper-cpu-api/main.ipynb#W6sdnNjb2RlLXJlbW90ZQ%3D%3D?line=39'>40</a>\u001b[0m     \u001b[39mprint\u001b[39m(\u001b[39mf\u001b[39m\u001b[39m\"\u001b[39m\u001b[39mFilename: \u001b[39m\u001b[39m{\u001b[39;00maudio_file\u001b[39m}\u001b[39;00m\u001b[39m\"\u001b[39m)\n\u001b[1;32m     <a href='vscode-notebook-cell://wsl%2Bubuntu/home/jlaw/defense-unicorns/whisper-cpu-api/main.ipynb#W6sdnNjb2RlLXJlbW90ZQ%3D%3D?line=40'>41</a>\u001b[0m     start \u001b[39m=\u001b[39m time\u001b[39m.\u001b[39mperf_counter()\n",
      "File \u001b[0;32m~/defense-unicorns/whisper-cpu-api/.venv/lib/python3.11/site-packages/faster_whisper/transcribe.py:258\u001b[0m, in \u001b[0;36mWhisperModel.transcribe\u001b[0;34m(self, audio, language, task, beam_size, best_of, patience, length_penalty, repetition_penalty, no_repeat_ngram_size, temperature, compression_ratio_threshold, log_prob_threshold, no_speech_threshold, condition_on_previous_text, prompt_reset_on_temperature, initial_prompt, prefix, suppress_blank, suppress_tokens, without_timestamps, max_initial_timestamp, word_timestamps, prepend_punctuations, append_punctuations, vad_filter, vad_parameters)\u001b[0m\n\u001b[1;32m    255\u001b[0m sampling_rate \u001b[39m=\u001b[39m \u001b[39mself\u001b[39m\u001b[39m.\u001b[39mfeature_extractor\u001b[39m.\u001b[39msampling_rate\n\u001b[1;32m    257\u001b[0m \u001b[39mif\u001b[39;00m \u001b[39mnot\u001b[39;00m \u001b[39misinstance\u001b[39m(audio, np\u001b[39m.\u001b[39mndarray):\n\u001b[0;32m--> 258\u001b[0m     audio \u001b[39m=\u001b[39m decode_audio(audio, sampling_rate\u001b[39m=\u001b[39;49msampling_rate)\n\u001b[1;32m    260\u001b[0m duration \u001b[39m=\u001b[39m audio\u001b[39m.\u001b[39mshape[\u001b[39m0\u001b[39m] \u001b[39m/\u001b[39m sampling_rate\n\u001b[1;32m    261\u001b[0m duration_after_vad \u001b[39m=\u001b[39m duration\n",
      "File \u001b[0;32m~/defense-unicorns/whisper-cpu-api/.venv/lib/python3.11/site-packages/faster_whisper/audio.py:46\u001b[0m, in \u001b[0;36mdecode_audio\u001b[0;34m(input_file, sampling_rate, split_stereo)\u001b[0m\n\u001b[1;32m     43\u001b[0m raw_buffer \u001b[39m=\u001b[39m io\u001b[39m.\u001b[39mBytesIO()\n\u001b[1;32m     44\u001b[0m dtype \u001b[39m=\u001b[39m \u001b[39mNone\u001b[39;00m\n\u001b[0;32m---> 46\u001b[0m \u001b[39mwith\u001b[39;00m av\u001b[39m.\u001b[39;49mopen(input_file, metadata_errors\u001b[39m=\u001b[39;49m\u001b[39m\"\u001b[39;49m\u001b[39mignore\u001b[39;49m\u001b[39m\"\u001b[39;49m) \u001b[39mas\u001b[39;00m container:\n\u001b[1;32m     47\u001b[0m     frames \u001b[39m=\u001b[39m container\u001b[39m.\u001b[39mdecode(audio\u001b[39m=\u001b[39m\u001b[39m0\u001b[39m)\n\u001b[1;32m     48\u001b[0m     frames \u001b[39m=\u001b[39m _ignore_invalid_frames(frames)\n",
      "File \u001b[0;32mav/container/core.pyx:401\u001b[0m, in \u001b[0;36mav.container.core.open\u001b[0;34m()\u001b[0m\n",
      "File \u001b[0;32mav/container/core.pyx:272\u001b[0m, in \u001b[0;36mav.container.core.Container.__cinit__\u001b[0;34m()\u001b[0m\n",
      "File \u001b[0;32mav/container/core.pyx:292\u001b[0m, in \u001b[0;36mav.container.core.Container.err_check\u001b[0;34m()\u001b[0m\n",
      "File \u001b[0;32mav/error.pyx:336\u001b[0m, in \u001b[0;36mav.error.err_check\u001b[0;34m()\u001b[0m\n",
      "\u001b[0;31mFileNotFoundError\u001b[0m: [Errno 2] No such file or directory: 'samples/audio/1hr2min49sec.*'"
     ]
    }
   ],
   "source": [
    "inference_solution = (\n",
    "    int(input(\"Choose one using the number: (1) pywhispercpp or (2) faster-whisper\"))\n",
    "    == 1\n",
    ")\n",
    "\n",
    "if inference_solution == 1:\n",
    "    from pywhispercpp.model import Model\n",
    "\n",
    "    model = Model(desired_whisper_model, n_threads=6, models_dir=\"./models\")\n",
    "\n",
    "    for filename in filenames:\n",
    "        audio_file = f\"{audio_dir}{filename}.wav\"\n",
    "        print(f\"Filename: {audio_file}\")\n",
    "        segments = model.transcribe(audio_file, speed_up=True)\n",
    "\n",
    "        transcript = \"\"\n",
    "        for segment in segments:\n",
    "            transcript = \" \".join([seg.text for seg in segments])\n",
    "\n",
    "        transcript_file = f\"{transcription_dir}{filename}.txt\"\n",
    "        with open(transcript_file, \"w\") as f:\n",
    "            f.write(transcript)\n",
    "\n",
    "else:\n",
    "    from faster_whisper import WhisperModel\n",
    "    import time\n",
    "\n",
    "    model = WhisperModel(\n",
    "        desired_whisper_model,\n",
    "        device=\"cpu\",\n",
    "        compute_type=\"int8\",\n",
    "        cpu_threads=6,\n",
    "        download_root=\"./models\",\n",
    "    )\n",
    "\n",
    "    for filename in filenames:\n",
    "        audio_file = f\"{audio_dir}{filename}.wav\"\n",
    "        segments, info = model.transcribe(audio_file)\n",
    "\n",
    "        print(f\"Filename: {audio_file}\")\n",
    "        start = time.perf_counter()\n",
    "        segments = list(segments)\n",
    "        end = time.perf_counter()\n",
    "        print(f\"Transcribed in {end - start:0.4f} seconds\")\n",
    "\n",
    "        transcript = \"\"\n",
    "        for segment in segments:\n",
    "            transcript = \" \".join([seg.text for seg in segments])\n",
    "\n",
    "        transcript_file = f\"{transcription_dir}{filename}.txt\"\n",
    "        with open(transcript_file, \"w\") as f:\n",
    "            f.write(transcript)"
   ]
  },
  {
   "cell_type": "markdown",
   "metadata": {},
   "source": [
    "Calculate Word Error Rate (WER) and Word Information Loss (WIL). WER measures word-level accuracy. WIL measures semantic fidelity. WER compares words. WIL compares meaning.\n",
    "\n",
    "Sentence embedding model is used to perform cosine-similarity."
   ]
  },
  {
   "cell_type": "code",
   "execution_count": null,
   "metadata": {},
   "outputs": [],
   "source": [
    "from jiwer import wer, process_words\n",
    "from sentence_transformers import SentenceTransformer, util\n",
    "\n",
    "model = SentenceTransformer(\"sentence-transformers/all-MiniLM-L6-v2\")\n",
    "\n",
    "\n",
    "for filename in filenames:\n",
    "    truth = \"\"\n",
    "    transcript = \"\"\n",
    "\n",
    "    transcript_file = f\"{transcription_dir}{filename}.txt\"\n",
    "    with open(transcript_file, \"r\") as f:\n",
    "        transcript = f.read()\n",
    "\n",
    "    truth_file = f\"{truth_dir}{filename}.txt\"\n",
    "    with open(truth_file, \"r\") as f:\n",
    "        truth = f.read()\n",
    "\n",
    "    output = process_words(truth, transcript)\n",
    "\n",
    "    wer = output.wer\n",
    "    wil = output.wil\n",
    "\n",
    "    truth_embedding = model.encode(truth, convert_to_tensor=True)\n",
    "    transcript_embedding = model.encode(transcript, convert_to_tensor=True)\n",
    "\n",
    "    document_similarity = util.pytorch_cos_sim(\n",
    "        truth_embedding, transcript_embedding\n",
    "    ).item()\n",
    "\n",
    "    print(f\"[{filename}] Word Error Rate: {wer}\")\n",
    "    print(f\"[{filename}] Word Information Loss: {wil}\")\n",
    "    print(f\"[{filename}] (EXPERIMENTAL) Document Similarity: {document_similarity}\")\n",
    "\n",
    "    inference_solution = \"cpp\" if inference_solution == 1 else \"faster\"\n",
    "\n",
    "    new_transcript_file = f\"{transcription_dir}{filename}-{inference_solution}-{desired_whisper_model}.txt\"\n",
    "    with open(new_transcript_file, \"w\") as f:\n",
    "        f.write(transcript)"
   ]
  }
 ],
 "metadata": {
  "kernelspec": {
   "display_name": ".venv",
   "language": "python",
   "name": "python3"
  },
  "language_info": {
   "codemirror_mode": {
    "name": "ipython",
    "version": 3
   },
   "file_extension": ".py",
   "mimetype": "text/x-python",
   "name": "python",
   "nbconvert_exporter": "python",
   "pygments_lexer": "ipython3",
   "version": "3.11.6"
  }
 },
 "nbformat": 4,
 "nbformat_minor": 2
}
