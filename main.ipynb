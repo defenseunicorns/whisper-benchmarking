{
 "cells": [
  {
   "cell_type": "markdown",
   "metadata": {},
   "source": [
    "Install all required dependencies."
   ]
  },
  {
   "cell_type": "code",
   "execution_count": null,
   "metadata": {},
   "outputs": [],
   "source": [
    "! pip3 install pywhispercpp jiwer sentence_transformers # spacy\n",
    "# ! python3 -m spacy download en_core_web_sm"
   ]
  },
  {
   "cell_type": "markdown",
   "metadata": {},
   "source": [
    "Pull in all available audio files from `samples/audio`. Assumes that the audio files all have a matching file within `sample/truth`."
   ]
  },
  {
   "cell_type": "code",
   "execution_count": null,
   "metadata": {},
   "outputs": [],
   "source": [
    "import os\n",
    "\n",
    "audio_dir = \"samples/audio/\"\n",
    "transcription_dir = \"samples/transcription/\"\n",
    "truth_dir = \"samples/truth/\"\n",
    "\n",
    "files = os.listdir(audio_dir)\n",
    "\n",
    "filenames = []\n",
    "for file in files:\n",
    "    name, ext = os.path.splitext(file)\n",
    "    filenames.append(name)\n",
    "\n",
    "print(filenames)"
   ]
  },
  {
   "cell_type": "markdown",
   "metadata": {},
   "source": [
    "Use the python binding for whisper.cpp to inference whisper for audio recognition."
   ]
  },
  {
   "cell_type": "code",
   "execution_count": null,
   "metadata": {},
   "outputs": [],
   "source": [
    "from pywhispercpp.model import Model\n",
    "\n",
    "desired_whisper_model = \"base.en\"\n",
    "model = Model(desired_whisper_model, n_threads=6, models_dir=\"./models\")\n",
    "\n",
    "for filename in filenames:\n",
    "    audio_file = f\"{audio_dir}{filename}.wav\"\n",
    "    print(audio_file)\n",
    "    segments = model.transcribe(audio_file, speed_up=True)\n",
    "\n",
    "    transcript = \"\"\n",
    "    for segment in segments:\n",
    "        transcript = \" \".join([seg.text for seg in segments])\n",
    "\n",
    "    transcript_file = f\"{transcription_dir}{filename}.txt\"\n",
    "    with open(transcript_file, \"w\") as f:\n",
    "        f.write(transcript)"
   ]
  },
  {
   "cell_type": "markdown",
   "metadata": {},
   "source": [
    "Calculate Word Error Rate (WER) and Word Information Loss (WIL). WER measures word-level accuracy. WIL measures semantic fidelity. WER compares words. WIL compares meaning.\n",
    "\n",
    "Sentence embedding model is used to perform cosine-similarity."
   ]
  },
  {
   "cell_type": "code",
   "execution_count": null,
   "metadata": {},
   "outputs": [],
   "source": [
    "from jiwer import wer, process_words\n",
    "from sentence_transformers import SentenceTransformer, util\n",
    "\n",
    "# import spacy\n",
    "\n",
    "model = SentenceTransformer(\"sentence-transformers/all-MiniLM-L6-v2\")\n",
    "\n",
    "# nlp = spacy.load(\"en_core_web_sm\")\n",
    "\n",
    "\n",
    "for filename in filenames:\n",
    "    truth = \"\"\n",
    "    transcript = \"\"\n",
    "\n",
    "    transcript_file = f\"{transcription_dir}{filename}.txt\"\n",
    "    with open(transcript_file, \"r\") as f:\n",
    "        transcript = f.read()\n",
    "\n",
    "    truth_file = f\"{truth_dir}{filename}.txt\"\n",
    "    with open(truth_file, \"r\") as f:\n",
    "        truth = f.read()\n",
    "\n",
    "    output = process_words(truth, transcript)\n",
    "\n",
    "    wer = output.wer\n",
    "    wil = output.wil\n",
    "\n",
    "    # truth_sentences = [sent.text for sent in nlp(truth).sents]\n",
    "    # transcript_sentences = [sent.text for sent in nlp(transcript).sents]\n",
    "\n",
    "    # similarities = []\n",
    "    # for sent1 in truth_sentences:\n",
    "    #     embedding_1 = model.encode(sent1, convert_to_tensor=True)\n",
    "\n",
    "    # for sent2 in transcript_sentences:\n",
    "    #     embedding_2 = model.encode(sent2, convert_to_tensor=True)\n",
    "    #     similarity = util.pytorch_cos_sim(embedding_1, embedding_2).item()\n",
    "    #     similarities.append(similarity)\n",
    "\n",
    "    # average_similarity = sum(similarities) / len(similarities)\n",
    "\n",
    "    # print(\n",
    "    #     f\"[{filename}] (EXPERIMENTAL) Sentence Similarity: {average_similarity}\"\n",
    "    # )\n",
    "\n",
    "    truth_embedding = model.encode(truth, convert_to_tensor=True)\n",
    "    transcript_embedding = model.encode(transcript, convert_to_tensor=True)\n",
    "\n",
    "    document_similarity = util.pytorch_cos_sim(\n",
    "        truth_embedding, transcript_embedding\n",
    "    ).item()\n",
    "\n",
    "    print(f\"[{filename}] Word Error Rate: {wer}\")\n",
    "    print(f\"[{filename}] Word Information Loss: {wil}\")\n",
    "    print(f\"[{filename}] (EXPERIMENTAL) Document Similarity: {document_similarity}\")"
   ]
  }
 ],
 "metadata": {
  "kernelspec": {
   "display_name": ".venv",
   "language": "python",
   "name": "python3"
  },
  "language_info": {
   "codemirror_mode": {
    "name": "ipython",
    "version": 3
   },
   "file_extension": ".py",
   "mimetype": "text/x-python",
   "name": "python",
   "nbconvert_exporter": "python",
   "pygments_lexer": "ipython3",
   "version": "3.11.6"
  }
 },
 "nbformat": 4,
 "nbformat_minor": 2
}
