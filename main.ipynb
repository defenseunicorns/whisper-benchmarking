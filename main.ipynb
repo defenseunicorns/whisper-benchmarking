{
 "cells": [
  {
   "cell_type": "markdown",
   "metadata": {},
   "source": [
    "Install all required dependencies via the CLI:\n",
    "\n",
    "```bash\n",
    "pip3 install pywhispercpp jiwer sentence_transformers # spacy\n",
    "# python3 -m spacy download en_core_web_sm\n",
    "```"
   ]
  },
  {
   "cell_type": "markdown",
   "metadata": {},
   "source": [
    "Choose the Whisper model identifier that you would like to use."
   ]
  },
  {
   "cell_type": "code",
   "execution_count": 1,
   "metadata": {},
   "outputs": [],
   "source": [
    "desired_whisper_model = input(\"Whisper model version (e.g., base.en, base):\")"
   ]
  },
  {
   "cell_type": "markdown",
   "metadata": {},
   "source": [
    "Read in all available audio files from `samples/audio`. Assumes that the audio files all have a matching file within `sample/truth`."
   ]
  },
  {
   "cell_type": "code",
   "execution_count": 2,
   "metadata": {},
   "outputs": [
    {
     "name": "stdout",
     "output_type": "stream",
     "text": [
      "['3min47sec', '13min56sec', '0min12sec']\n"
     ]
    }
   ],
   "source": [
    "import os\n",
    "\n",
    "audio_dir = \"samples/audio/\"\n",
    "transcription_dir = \"samples/transcription/\"\n",
    "truth_dir = \"samples/truth/\"\n",
    "\n",
    "files = os.listdir(audio_dir)\n",
    "\n",
    "filenames = []\n",
    "for file in files:\n",
    "    name, ext = os.path.splitext(file)\n",
    "    filenames.append(name)\n",
    "\n",
    "print(filenames)"
   ]
  },
  {
   "cell_type": "markdown",
   "metadata": {},
   "source": [
    "Use the python binding for whisper.cpp to inference whisper for audio recognition."
   ]
  },
  {
   "cell_type": "code",
   "execution_count": 3,
   "metadata": {},
   "outputs": [
    {
     "name": "stderr",
     "output_type": "stream",
     "text": [
      "Downloading Model small.en ...: 100%|██████████| 465M/465M [00:38<00:00, 12.7MiB/s] "
     ]
    },
    {
     "name": "stdout",
     "output_type": "stream",
     "text": [
      "[2023-10-12 17:34:27,957] {utils.py:63} INFO - Model downloaded to /home/jlaw/defense-unicorns/whisper-cpu-api/models/ggml-small.en.bin\n",
      "[2023-10-12 17:34:27,969] {model.py:221} INFO - Initializing the model ...\n"
     ]
    },
    {
     "name": "stderr",
     "output_type": "stream",
     "text": [
      "\n",
      "whisper_init_from_file_no_state: loading model from '/home/jlaw/defense-unicorns/whisper-cpu-api/models/ggml-small.en.bin'\n",
      "whisper_model_load: loading model\n",
      "whisper_model_load: n_vocab       = 51864\n",
      "whisper_model_load: n_audio_ctx   = 1500\n",
      "whisper_model_load: n_audio_state = 768\n",
      "whisper_model_load: n_audio_head  = 12\n",
      "whisper_model_load: n_audio_layer = 12\n",
      "whisper_model_load: n_text_ctx    = 448\n",
      "whisper_model_load: n_text_state  = 768\n",
      "whisper_model_load: n_text_head   = 12\n",
      "whisper_model_load: n_text_layer  = 12\n",
      "whisper_model_load: n_mels        = 80\n",
      "whisper_model_load: ftype         = 1\n",
      "whisper_model_load: type          = 3\n",
      "whisper_model_load: mem required  =  743.00 MB (+   16.00 MB per decoder)\n",
      "whisper_model_load: adding 1607 extra tokens\n",
      "whisper_model_load: model ctx     =  464.56 MB\n",
      "whisper_model_load: model size    =  464.44 MB\n",
      "whisper_init_state: kv self size  =   15.75 MB\n",
      "whisper_init_state: kv cross size =   52.73 MB\n"
     ]
    },
    {
     "name": "stdout",
     "output_type": "stream",
     "text": [
      "samples/audio/3min47sec.wav\n",
      "[2023-10-12 17:34:29,444] {model.py:130} INFO - Transcribing ...\n",
      "[2023-10-12 17:40:11,739] {model.py:133} INFO - Inference time: 342.295 s\n",
      "samples/audio/13min56sec.wav\n"
     ]
    },
    {
     "name": "stderr",
     "output_type": "stream",
     "text": [
      "whisper_full_with_state: progress =   5%\n",
      "whisper_full_with_state: progress =  10%\n",
      "whisper_full_with_state: progress =  15%\n",
      "whisper_full_with_state: progress =  20%\n",
      "whisper_full_with_state: progress =  25%\n",
      "whisper_full_with_state: progress =  30%\n",
      "whisper_full_with_state: progress =  35%\n",
      "whisper_full_with_state: progress =  40%\n",
      "whisper_full_with_state: progress =  45%\n",
      "whisper_full_with_state: progress =  50%\n",
      "whisper_full_with_state: progress =  55%\n",
      "whisper_full_with_state: progress =  60%\n",
      "whisper_full_with_state: progress =  65%\n",
      "whisper_full_with_state: progress =  70%\n",
      "whisper_full_with_state: progress =  75%\n",
      "whisper_full_with_state: progress =  80%\n",
      "whisper_full_with_state: progress =  85%\n",
      "whisper_full_with_state: progress =  90%\n",
      "whisper_full_with_state: progress =  95%\n"
     ]
    },
    {
     "name": "stdout",
     "output_type": "stream",
     "text": [
      "[2023-10-12 17:40:11,956] {model.py:130} INFO - Transcribing ...\n",
      "[2023-10-12 17:53:04,706] {model.py:133} INFO - Inference time: 772.750 s\n",
      "samples/audio/0min12sec.wav\n",
      "[2023-10-12 17:53:04,719] {model.py:130} INFO - Transcribing ...\n",
      "[2023-10-12 17:54:00,651] {model.py:133} INFO - Inference time: 55.932 s\n"
     ]
    },
    {
     "name": "stderr",
     "output_type": "stream",
     "text": [
      "whisper_full_with_state: progress =   5%\n",
      "whisper_full_with_state: progress =  10%\n",
      "whisper_full_with_state: progress =  15%\n",
      "whisper_full_with_state: progress =  20%\n",
      "whisper_full_with_state: progress =  25%\n",
      "whisper_full_with_state: progress =  30%\n",
      "whisper_full_with_state: progress =  35%\n",
      "whisper_full_with_state: progress =  40%\n",
      "whisper_full_with_state: progress =  45%\n",
      "whisper_full_with_state: progress =  50%\n",
      "whisper_full_with_state: progress =  55%\n",
      "whisper_full_with_state: progress =  60%\n",
      "whisper_full_with_state: progress =  65%\n",
      "whisper_full_with_state: progress =  70%\n",
      "whisper_full_with_state: progress =  75%\n",
      "whisper_full_with_state: progress =  80%\n",
      "whisper_full_with_state: progress =  85%\n",
      "whisper_full_with_state: progress =  90%\n",
      "whisper_full_with_state: progress =  95%\n",
      "whisper_full_with_state: progress =   5%\n",
      "whisper_full_with_state: progress =  10%\n",
      "whisper_full_with_state: progress =  15%\n",
      "whisper_full_with_state: progress =  20%\n",
      "whisper_full_with_state: progress =  25%\n",
      "whisper_full_with_state: progress =  30%\n",
      "whisper_full_with_state: progress =  35%\n",
      "whisper_full_with_state: progress =  40%\n",
      "whisper_full_with_state: progress =  45%\n",
      "whisper_full_with_state: progress =  50%\n",
      "whisper_full_with_state: progress =  55%\n",
      "whisper_full_with_state: progress =  60%\n",
      "whisper_full_with_state: progress =  65%\n",
      "whisper_full_with_state: progress =  70%\n",
      "whisper_full_with_state: progress =  75%\n",
      "whisper_full_with_state: progress =  80%\n",
      "whisper_full_with_state: progress =  85%\n",
      "whisper_full_with_state: progress =  90%\n",
      "whisper_full_with_state: progress =  95%\n"
     ]
    }
   ],
   "source": [
    "from pywhispercpp.model import Model\n",
    "\n",
    "model = Model(desired_whisper_model, n_threads=6, models_dir=\"./models\")\n",
    "\n",
    "for filename in filenames:\n",
    "    audio_file = f\"{audio_dir}{filename}.wav\"\n",
    "    print(audio_file)\n",
    "    segments = model.transcribe(audio_file, speed_up=True)\n",
    "\n",
    "    transcript = \"\"\n",
    "    for segment in segments:\n",
    "        transcript = \" \".join([seg.text for seg in segments])\n",
    "\n",
    "    transcript_file = f\"{transcription_dir}{filename}.txt\"\n",
    "    with open(transcript_file, \"w\") as f:\n",
    "        f.write(transcript)"
   ]
  },
  {
   "cell_type": "markdown",
   "metadata": {},
   "source": [
    "Calculate Word Error Rate (WER) and Word Information Loss (WIL). WER measures word-level accuracy. WIL measures semantic fidelity. WER compares words. WIL compares meaning.\n",
    "\n",
    "Sentence embedding model is used to perform cosine-similarity."
   ]
  },
  {
   "cell_type": "code",
   "execution_count": 4,
   "metadata": {},
   "outputs": [
    {
     "name": "stderr",
     "output_type": "stream",
     "text": [
      "/home/jlaw/defense-unicorns/whisper-cpu-api/.venv/lib/python3.11/site-packages/tqdm/auto.py:21: TqdmWarning: IProgress not found. Please update jupyter and ipywidgets. See https://ipywidgets.readthedocs.io/en/stable/user_install.html\n",
      "  from .autonotebook import tqdm as notebook_tqdm\n"
     ]
    },
    {
     "name": "stdout",
     "output_type": "stream",
     "text": [
      "[2023-10-12 17:54:12,878] {SentenceTransformer.py:66} INFO - Load pretrained SentenceTransformer: sentence-transformers/all-MiniLM-L6-v2\n",
      "[2023-10-12 17:54:14,203] {SentenceTransformer.py:105} INFO - Use pytorch device: cpu\n"
     ]
    },
    {
     "name": "stderr",
     "output_type": "stream",
     "text": [
      "Batches: 100%|██████████| 1/1 [00:01<00:00,  1.94s/it]\n",
      "Batches: 100%|██████████| 1/1 [00:00<00:00,  2.41it/s]\n"
     ]
    },
    {
     "name": "stdout",
     "output_type": "stream",
     "text": [
      "[3min47sec] Word Error Rate: 0.07777777777777778\n",
      "[3min47sec] Word Information Loss: 0.13204933778182182\n",
      "[3min47sec] (EXPERIMENTAL) Document Similarity: 0.9903446435928345\n"
     ]
    },
    {
     "name": "stderr",
     "output_type": "stream",
     "text": [
      "Batches: 100%|██████████| 1/1 [00:00<00:00,  1.27it/s]\n",
      "Batches: 100%|██████████| 1/1 [00:00<00:00,  2.76it/s]\n"
     ]
    },
    {
     "name": "stdout",
     "output_type": "stream",
     "text": [
      "[13min56sec] Word Error Rate: 0.0911880754055239\n",
      "[13min56sec] Word Information Loss: 0.14883375136173949\n",
      "[13min56sec] (EXPERIMENTAL) Document Similarity: 0.9443119764328003\n"
     ]
    },
    {
     "name": "stderr",
     "output_type": "stream",
     "text": [
      "Batches: 100%|██████████| 1/1 [00:00<00:00,  4.81it/s]\n",
      "Batches: 100%|██████████| 1/1 [00:00<00:00,  9.25it/s]"
     ]
    },
    {
     "name": "stdout",
     "output_type": "stream",
     "text": [
      "[0min12sec] Word Error Rate: 0.22857142857142856\n",
      "[0min12sec] Word Information Loss: 0.36883116883116873\n",
      "[0min12sec] (EXPERIMENTAL) Document Similarity: 0.9875556230545044\n"
     ]
    },
    {
     "name": "stderr",
     "output_type": "stream",
     "text": [
      "\n"
     ]
    }
   ],
   "source": [
    "from jiwer import wer, process_words\n",
    "from sentence_transformers import SentenceTransformer, util\n",
    "\n",
    "# import spacy\n",
    "\n",
    "model = SentenceTransformer(\"sentence-transformers/all-MiniLM-L6-v2\")\n",
    "\n",
    "# nlp = spacy.load(\"en_core_web_sm\")\n",
    "\n",
    "\n",
    "for filename in filenames:\n",
    "    truth = \"\"\n",
    "    transcript = \"\"\n",
    "\n",
    "    transcript_file = f\"{transcription_dir}{filename}.txt\"\n",
    "    with open(transcript_file, \"r\") as f:\n",
    "        transcript = f.read()\n",
    "\n",
    "    truth_file = f\"{truth_dir}{filename}.txt\"\n",
    "    with open(truth_file, \"r\") as f:\n",
    "        truth = f.read()\n",
    "\n",
    "    output = process_words(truth, transcript)\n",
    "\n",
    "    wer = output.wer\n",
    "    wil = output.wil\n",
    "\n",
    "    # truth_sentences = [sent.text for sent in nlp(truth).sents]\n",
    "    # transcript_sentences = [sent.text for sent in nlp(transcript).sents]\n",
    "\n",
    "    # similarities = []\n",
    "    # for sent1 in truth_sentences:\n",
    "    #     embedding_1 = model.encode(sent1, convert_to_tensor=True)\n",
    "\n",
    "    # for sent2 in transcript_sentences:\n",
    "    #     embedding_2 = model.encode(sent2, convert_to_tensor=True)\n",
    "    #     similarity = util.pytorch_cos_sim(embedding_1, embedding_2).item()\n",
    "    #     similarities.append(similarity)\n",
    "\n",
    "    # average_similarity = sum(similarities) / len(similarities)\n",
    "\n",
    "    # print(\n",
    "    #     f\"[{filename}] (EXPERIMENTAL) Sentence Similarity: {average_similarity}\"\n",
    "    # )\n",
    "\n",
    "    truth_embedding = model.encode(truth, convert_to_tensor=True)\n",
    "    transcript_embedding = model.encode(transcript, convert_to_tensor=True)\n",
    "\n",
    "    document_similarity = util.pytorch_cos_sim(\n",
    "        truth_embedding, transcript_embedding\n",
    "    ).item()\n",
    "\n",
    "    print(f\"[{filename}] Word Error Rate: {wer}\")\n",
    "    print(f\"[{filename}] Word Information Loss: {wil}\")\n",
    "    print(f\"[{filename}] (EXPERIMENTAL) Document Similarity: {document_similarity}\")"
   ]
  }
 ],
 "metadata": {
  "kernelspec": {
   "display_name": ".venv",
   "language": "python",
   "name": "python3"
  },
  "language_info": {
   "codemirror_mode": {
    "name": "ipython",
    "version": 3
   },
   "file_extension": ".py",
   "mimetype": "text/x-python",
   "name": "python",
   "nbconvert_exporter": "python",
   "pygments_lexer": "ipython3",
   "version": "3.11.6"
  }
 },
 "nbformat": 4,
 "nbformat_minor": 2
}
